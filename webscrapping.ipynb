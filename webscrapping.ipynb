{
  "nbformat": 4,
  "nbformat_minor": 0,
  "metadata": {
    "colab": {
      "provenance": []
    },
    "kernelspec": {
      "name": "python3",
      "display_name": "Python 3"
    },
    "language_info": {
      "name": "python"
    }
  },
  "cells": [
    {
      "cell_type": "code",
      "source": [
        "from bs4 import BeautifulSoup\n",
        "import requests"
      ],
      "metadata": {
        "id": "lUdRpaDFFNgn"
      },
      "execution_count": 1,
      "outputs": []
    },
    {
      "cell_type": "code",
      "source": [
        "headers = {\n",
        "    'Accept-Encoding': 'gzip, deflate, sdch',\n",
        "    'Accept-Language': 'en-US,en;q=0.8',\n",
        "    'Upgrade-Insecure-Requests': '1',\n",
        "    'User-Agent': 'Mozilla/5.0 (X11; Linux x86_64) AppleWebKit/537.36 (KHTML, like Gecko) Chrome/56.0.2924.87 Safari/537.36',\n",
        "    'Accept': 'text/html,application/xhtml+xml,application/xml;q=0.9,image/webp,*/*;q=0.8',\n",
        "    'Cache-Control': 'max-age=0',\n",
        "    'Connection': 'keep-alive',\n",
        "}\n",
        "\n",
        "html = requests.get('https://www.metacritic.com/browse/games/score/metascore/year/all/filtered?sort=desc',headers = headers).content"
      ],
      "metadata": {
        "id": "iR4u3S54F6Gt"
      },
      "execution_count": 2,
      "outputs": []
    },
    {
      "cell_type": "code",
      "source": [
        "soup = BeautifulSoup(html,'html.parser')"
      ],
      "metadata": {
        "id": "y-PCcY7QK6ys"
      },
      "execution_count": 3,
      "outputs": []
    },
    {
      "cell_type": "code",
      "source": [
        "link = 'https://www.metacritic.com/browse/games/score/metascore/year/all/filtered?sort=desc&page=0'\n",
        "\n",
        "quantidade_paginas = 1\n",
        "comentarios = []\n",
        "notas = []\n",
        "contador_comentario = []\n",
        "contador_nota = []\n",
        "cont_comentario = -1\n",
        "cont_nota = 0\n",
        "\n",
        "for i in range(0,quantidade_paginas):\n",
        "  link = 'https://www.metacritic.com/browse/games/score/metascore/year/all/filtered?sort=desc&page='+str(i)\n",
        "  html = requests.get(link,headers = headers).content\n",
        "  soup = BeautifulSoup(html,'html.parser')\n",
        "  for link in soup.find_all('a',{'class':'title'}):\n",
        "    paginas = 'https://www.metacritic.com'+ link['href']\n",
        "    html_2 = requests.get(paginas,headers = headers).text\n",
        "    soup_2 = BeautifulSoup(html_2,'html.parser')\n",
        "    try:\n",
        "      pagina_comentarios = soup_2.find_all('p',{'class':'see_all'})[1].a['href']\n",
        "    except:\n",
        "     continue\n",
        "    html_3 = requests.get('https://www.metacritic.com'+pagina_comentarios,headers = headers).content\n",
        "    soup_3 = BeautifulSoup(html_3,'html.parser')\n",
        "    for comentario in soup_3.find_all('div',{'class':'review_content'}):\n",
        "      cont_comentario = cont_comentario + 1\n",
        "      try:\n",
        "        comentarios.append(comentario.span.text)\n",
        "      except:\n",
        "        contador_comentario.append(cont_comentario)\n",
        "        continue\n",
        "    for nota in soup_3.find_all('div',{'class':'review_grade'}):\n",
        "      cont_nota = cont_nota + 1\n",
        "      try:\n",
        "        notas.append(nota.div.text)\n",
        "      except:\n",
        "        contador_nota(cont_nota)\n",
        "        continue"
      ],
      "metadata": {
        "id": "IV-99NkfRs-4"
      },
      "execution_count": 4,
      "outputs": []
    },
    {
      "cell_type": "code",
      "source": [
        "len(notas) - len(comentarios)"
      ],
      "metadata": {
        "colab": {
          "base_uri": "https://localhost:8080/"
        },
        "id": "ZiNaxvQbdffd",
        "outputId": "851d623f-b3e2-4e83-e91a-0bc23c42954f"
      },
      "execution_count": 5,
      "outputs": [
        {
          "output_type": "execute_result",
          "data": {
            "text/plain": [
              "198"
            ]
          },
          "metadata": {},
          "execution_count": 5
        }
      ]
    },
    {
      "cell_type": "code",
      "source": [
        "import numpy as np\n",
        "\n",
        "notas_filtradas = np.delete(notas,contador_comentario)"
      ],
      "metadata": {
        "id": "SlwRBoEEyqfm"
      },
      "execution_count": 6,
      "outputs": []
    },
    {
      "cell_type": "code",
      "source": [
        "len(comentarios)"
      ],
      "metadata": {
        "colab": {
          "base_uri": "https://localhost:8080/"
        },
        "id": "Ba3xboEvDbLm",
        "outputId": "0c035c68-3879-4afb-ed0e-c8c6bb3056b3"
      },
      "execution_count": 9,
      "outputs": [
        {
          "output_type": "execute_result",
          "data": {
            "text/plain": [
              "3355"
            ]
          },
          "metadata": {},
          "execution_count": 9
        }
      ]
    },
    {
      "cell_type": "code",
      "source": [
        "len(notas_filtradas)"
      ],
      "metadata": {
        "colab": {
          "base_uri": "https://localhost:8080/"
        },
        "id": "nPnmn7OVEGsl",
        "outputId": "4fdf90b6-2a14-4d92-becb-c46aefd72ddf"
      },
      "execution_count": 14,
      "outputs": [
        {
          "output_type": "execute_result",
          "data": {
            "text/plain": [
              "3355"
            ]
          },
          "metadata": {},
          "execution_count": 14
        }
      ]
    },
    {
      "cell_type": "code",
      "source": [
        "import pandas as pd\n",
        "\n",
        "d = {'comentarios':comentarios, 'notas':notas_filtradas}\n",
        "\n",
        "df = pd.DataFrame(data = d)\n",
        "\n",
        "df.to_csv('base.csv')"
      ],
      "metadata": {
        "id": "g2M1JJOXDlc8"
      },
      "execution_count": 18,
      "outputs": []
    }
  ]
}